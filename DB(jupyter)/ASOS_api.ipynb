{
 "cells": [
  {
   "cell_type": "markdown",
   "id": "06b0037e",
   "metadata": {},
   "source": [
    "# 종관지상관측 API\n",
    "\n",
    "- 위치 : 기상청 API 허브\n",
    "- 지상관측 > 종관기상관측(ASOS) > 1.지상 관측자료조회 > 시간자료"
   ]
  },
  {
   "cell_type": "code",
   "execution_count": null,
   "id": "9c22214b",
   "metadata": {},
   "outputs": [],
   "source": [
    "url = \"https://apihub.kma.go.kr/api/typ01/url/kma_sfctm2.php?\""
   ]
  },
  {
   "cell_type": "markdown",
   "id": "39ed40b6",
   "metadata": {},
   "source": [
    "- 요청 인자\n",
    "    - tm : 202211300900 형식 / 년월일시분(KST)년월일(KST): 해당 시간 (없으면 현재시간)\n",
    "    - tm1 : 위와 같음 : 기간: 시작시간 또는 시작일 (없으면 현재 시간)\n",
    "    - tm2 : 위와 같음 : 기간: 종료시간 또는 종료일 (없으면 현재 시간)\n",
    "    - obs : 관측 종류 : 없으면 전체 관측 종류\n",
    "    - stn = 지점번호 : 해당 지점들(:로 구분)의 정보 표출(0이거나 없으면 전체 지점) > 밑에 딕셔너리를 참조\n",
    "    - help = : 1 이면 필드에 대한 약간의 도움말 추가 (0 이거나 없으면 없음)\n",
    "    - mode = : 0:해독결과만 표출, 1:기사도 표출, 2:기사만 표출\n",
    "    - authKey=\"jvwEqhhGTIW8BKoYRhyFkQ\""
   ]
  },
  {
   "cell_type": "code",
   "execution_count": null,
   "id": "4d070b06",
   "metadata": {},
   "outputs": [],
   "source": [
    "station_dictionary = {'서울' : '108',\n",
    "                  '동두천':'98', \n",
    "                  '수원':'119', \n",
    "                  \"양평\":'202', \n",
    "                  '이천':'203', \n",
    "                  '파주':'99', \n",
    "                  '백령도':\"102\", \n",
    "                  '인천':\"112\",\n",
    "                  '강화도':'201'}"
   ]
  },
  {
   "cell_type": "markdown",
   "id": "19096b01",
   "metadata": {},
   "source": [
    "- 결과 항목\n",
    "    - 1. TM     : 관측시각 (KST)\n",
    "    -  2. STN    : 국내 지점번호\n",
    "    -  3. WD     : 풍향 (16방위)\n",
    "    -  4. WS     : 풍속 (m/s)\n",
    "    -  5. GST_WD : 돌풍향 (16방위)\n",
    "    -  6. GST_WS : 돌풍속 (m/s)\n",
    "    -  7. GST_TM : 돌풍속이 관측된 시각 (시분)\n",
    "    -  8. PA     : 현지기압 (hPa)\n",
    "    -  9. PS     : 해면기압 (hPa)\n",
    "    - 10. PT     : 기압변화경향 (Code 0200) \n",
    "    - 11. PR     : 기압변화량 (hPa)\n",
    "    - 12. TA     : 기온 (C)\n",
    "    - 13. TD     : 이슬점온도 (C)\n",
    "    - 14. HM     : 상대습도 (%)\n",
    "    - 15. PV     : 수증기압 (hPa)\n",
    "    - 16. RN     : 강수량 (mm) : 여름철에는 1시간강수량, 겨울철에는 3시간강수량\n",
    "    - 17. RN_DAY : 일강수량 (mm) : 해당시간까지 관측된 양(통계표)\n",
    "    - 18. RN_JUN : 일강수량 (mm) : 해당시간까지 관측된 양을 전문으로 입력한 값(전문)\n",
    "    - 19. RN_INT : 강수강도 (mm/h) : 관측하는 곳이 별로 없음\n",
    "    - 20. SD_HR3 : 3시간 신적설 (cm) : 3시간 동안 내린 신적설의 높이\n",
    "    - 21. SD_DAY : 일 신적설 (cm) : 00시00분부터 위 관측시간까지 내린 신적설의 높이\n",
    "    - 22. SD_TOT : 적설 (cm) : 치우지 않고 그냥 계속 쌓이도록 놔눈 경우의 적설의 높이\n",
    "    - 23. WC     : GTS 현재일기 (Code 4677)\n",
    "    - 24. WP     : GTS 과거일기 (Code 4561) .. 3(황사),4(안개),5(가랑비),6(비),7(눈),8(소나기),9(뇌전)\n",
    "    - 25. WW     : 국내식 일기코드 (문자열 22개) : 2자리씩 11개까지 기록 가능 (코드는 기상자원과 문의)\n",
    "    - 26. CA_TOT : 전운량 (1/10)\n",
    "    - 27. CA_MID : 중하층운량 (1/10)\n",
    "    - 28. CH_MIN : 최저운고 (100m)\n",
    "    - 29. CT     : 운형 (문자열 8개) : 2자리 코드로 4개까지 기록 가능\n",
    "    - 30. CT_TOP : GTS 상층운형 (Code 0509)\n",
    "    - 31. CT_MID : GTS 중층운형 (Code 0515)\n",
    "    - 32. CT_LOW : GTS 하층운형 (Code 0513)\n",
    "    - 33. VS     : 시정 (10m)\n",
    "    - 34. SS     : 일조 (hr)\n",
    "    - 35. SI     : 일사 (MJ/m2)\n",
    "    - 36. ST_GD  : 지면상태 코드 (코드는 기상자원과 문의)\n",
    "    - 37. TS     : 지면온도 (C)\n",
    "    - 38. TE_005 : 5cm 지중온도 (C)\n",
    "    - 39. TE_01  : 10cm 지중온도 (C)\n",
    "    - 40. TE_02  : 20cm 지중온도 (C)\n",
    "    - 41. TE_03  : 30cm 지중온도 (C)\n",
    "    - 42. ST_SEA : 해면상태 코드 (코드는 기상자원과 문의)\n",
    "    - 43. WH     : 파고 (m) : 해안관측소에서 목측한 값\n",
    "    - 44. BF     : Beaufart 최대풍력(GTS코드)\n",
    "    - 45. IR     : 강수자료 유무 (Code 1819) .. 1(Sec1에 포함), 2(Sec3에 포함), 3(무강수), 4(결측)\n",
    "    - 46. IX     : 유인관측/무인관측 및 일기 포함여부 (code 1860) .. 1,2,3(유인) 4,5,6(무인) / 1,4(포함), 2,5(생략), 3,6(결측)"
   ]
  },
  {
   "cell_type": "markdown",
   "id": "e7809929",
   "metadata": {},
   "source": [
    "# 기상관측 전처리\n",
    "\n",
    "- 현재 시간 데이터를 불러왔다고 가정 \n",
    "    - 202302070800 일때"
   ]
  },
  {
   "cell_type": "markdown",
   "id": "a90da591-3b24-4d23-a3cd-b4c027d9ed27",
   "metadata": {},
   "source": [
    "- 결과로 나오는 컬럼명\n",
    "     - YYMMDDHHMI, STN, WD, WS, GST, GST, GST, PA, PS, PT, PR, TA, TD, HM, PV, RN, RN, RN, RN, SD, SD, SD, WC, WP, WW, CA, CA, CH, CT, CT, CT, CT, VS, SS, SI, ST, TS, TE, TE, TE, TE, ST, WH, BF, IR, IX\n",
    "     - KST  ID  16  m/s  WD   WS   TM    hPa    hPa  -   hPa     C     C     %   hPa     mm    DAY    JUN    INT    HR3    DAY    TOT -- -- ---------------------- TOT MID  MIN -------- TOP MID LOW                  GD     C     5    10    20    30 SEA    m --  -  -\n",
    "     \n",
    "    \n",
    "- 실제 컬럼명\n",
    "    - GST_WD, GST_WS, GST_TM, PT, PR, TA, TD, HM, PV, RN, RN_DAY, RN_JUN, RN_INT, SD_HR3, SD_DAY, SD_TOT, WC, WP, WW, CA_TOT, CA_MID, CH_MIN, CT, CT_TOP, CT_MID, CT_LOW, VS, SS, SI, ST_GD, TS, TE_005, TE_01, TE_02, TE_03, ST_SEA, WH, BF, IR, IX\n",
    "\n",
    "-  삭제할 컬럼\n",
    "     - TM, STN, WD, WS, GST_WD, GST_WS, GST_TM, PA, PS, PT, PR, RN_DAY, RN_JUN, RN_INT, SD_HR3, SD_DAY, WW, CT_TOP, CT_MID, CT_LOW, ST_GD, TS\n",
    "\n",
    "\n",
    "- 시간 열이름 \"datetime\" 으로 변경\n",
    "    - df.rename(columns = {\"YYMMDDHHMI\" : \"datetime\"}, inplace = True)\n",
    "\n",
    "\n",
    "- 기상 코드 onehot_encoding\n",
    "    - dummy = pd.get_dummies(df[\"ww\"], prefix = \"dmstMtphNo\")\n",
    "    - df = pd.concat([df, dummy], axis = 1)\n",
    "    - df.drop(\"ww\", axis=1, inplace=True)"
   ]
  },
  {
   "cell_type": "markdown",
   "id": "1bab0a4e",
   "metadata": {},
   "source": [
    "# 대기오염 API\n",
    "\n",
    "- 위치: 공공데이터포털 한국환경공단_에어코리아_대기오염통계 현황\n",
    "- 시군구별 실시간 평균정보 조회"
   ]
  },
  {
   "cell_type": "code",
   "execution_count": null,
   "id": "9fedbd1e",
   "metadata": {},
   "outputs": [],
   "source": [
    "url = \"http://apis.data.go.kr/B552584/ArpltnStatsSvc/getCtprvnMesureSidoLIst?\""
   ]
  },
  {
   "cell_type": "markdown",
   "id": "cc65e719",
   "metadata": {},
   "source": [
    "- 요청 변수\n",
    "    - serviceKey = \"BVQCCUgpx/b8HvRWaOf+lXv7wzOcIMh6bXw/JyBoqDbstzhj6bDJhPY7UW+H296mK5kLc/jmUs4+kpuAUA7t+g==\"\n",
    "    - returnType : \"json\"\n",
    "    - numOfRows : \"100\"\n",
    "    - pageNo : \"1\"\n",
    "    - sidoName : 밑에 참조\n",
    "    - searchCondition : \"HOUR\"\n",
    "    \n",
    "- sidoName 값\n",
    "    - \"서울\"\n",
    "    - \"인천\"\n",
    "    - \"경기\""
   ]
  },
  {
   "cell_type": "raw",
   "id": "59e8aad3",
   "metadata": {
    "ExecuteTime": {
     "end_time": "2023-02-07T08:51:44.530089Z",
     "start_time": "2023-02-07T08:51:44.513851Z"
    }
   },
   "source": [
    "결과창\n",
    "<response>\n",
    "  <header>\n",
    "    <resultCode>00</resultCode>\n",
    "    <resultMsg>NORMAL_CODE</resultMsg>\n",
    "  </header>\n",
    "  <body>\n",
    "    <items>\n",
    "      <item>\n",
    "        <khaiValue/>\n",
    "        <so2Value>0.005</so2Value>\n",
    "        <coValue>0.4</coValue>\n",
    "        <cityName>강남구</cityName>\n",
    "        <cityNameEng>Gangnam-gu</cityNameEng>\n",
    "        <pm10Value>28</pm10Value>\n",
    "        <dataTime>2020-11-13 13:00</dataTime>\n",
    "        <no2Value>0.027</no2Value>\n",
    "        <districtNumSeq>001</districtNumSeq>\n",
    "        <o3Value>0.005</o3Value>\n",
    "        <pm25Value>17</pm25Value>\n",
    "        <sidoName>서울</sidoName>\n",
    "      </item>\n",
    "      (중략)\n",
    "      </item>\n",
    "    </items>\n",
    "    <numOfRows>100</numOfRows>\n",
    "    <pageNo>1</pageNo>\n",
    "    <totalCount>24</totalCount>\n",
    "  </body>\n",
    "</response>"
   ]
  },
  {
   "cell_type": "markdown",
   "id": "f7ec864f",
   "metadata": {},
   "source": [
    "- 위에서 필요한 태그\n",
    "    - so2Value\n",
    "    - coValue\n",
    "    - cityNameEng\n",
    "    - pm10Value\n",
    "    - datatime\n",
    "    - no2Value\n",
    "    - o3Value\n",
    "    - sidoName"
   ]
  },
  {
   "cell_type": "markdown",
   "id": "64c01631",
   "metadata": {},
   "source": [
    "# 대기오염 전처리\n",
    "\n",
    "- 필요 없는 컬럼\n",
    "    - cityName\n",
    "    - districtNumSeq\n",
    "    - pm25Value\n",
    "- 시간 열이름 \"datatime\" \"datetime\" 으로 변경\n",
    "- sidoName 영어로 변경 "
   ]
  },
  {
   "cell_type": "markdown",
   "id": "80627f92",
   "metadata": {},
   "source": [
    "# 가져온 데이터의 결측치 처리\n",
    "\n",
    "- 쌓여있는 데이터베이스 테이블에서 각 일자:시간 별 평균을 가져와서 빈 값을 대체"
   ]
  }
 ],
 "metadata": {
  "kernelspec": {
   "display_name": "Python 3 (ipykernel)",
   "language": "python",
   "name": "python3"
  },
  "language_info": {
   "codemirror_mode": {
    "name": "ipython",
    "version": 3
   },
   "file_extension": ".py",
   "mimetype": "text/x-python",
   "name": "python",
   "nbconvert_exporter": "python",
   "pygments_lexer": "ipython3",
   "version": "3.9.12"
  },
  "toc": {
   "base_numbering": 1,
   "nav_menu": {},
   "number_sections": true,
   "sideBar": true,
   "skip_h1_title": false,
   "title_cell": "Table of Contents",
   "title_sidebar": "Contents",
   "toc_cell": false,
   "toc_position": {},
   "toc_section_display": true,
   "toc_window_display": false
  }
 },
 "nbformat": 4,
 "nbformat_minor": 5
}
