{
 "cells": [
  {
   "cell_type": "code",
   "execution_count": 11,
   "id": "4f5ec954-8dfd-4052-a96c-c11ad55454f3",
   "metadata": {},
   "outputs": [],
   "source": [
    "import requests\n",
    "import json"
   ]
  },
  {
   "cell_type": "markdown",
   "id": "fdc95835-21e9-4d38-b47c-685e696db5fa",
   "metadata": {},
   "source": [
    "# 기상청_지상(종관, ASOS) 시간자료 조회서비스 OpenAPI"
   ]
  },
  {
   "cell_type": "code",
   "execution_count": 12,
   "id": "3737640a-fd69-4d22-af86-f8dfb1dbd5d0",
   "metadata": {},
   "outputs": [],
   "source": [
    "en_key = \"6POGF%2BRbOGbdSUrQ2xJ3tBudlsVz%2FVmBpM3LyWODmI8htrrZC2aF3CqcIcEz%2Bc%2FuL2WniJAbjIcBeb2PpNsbJA%3D%3D\"\n",
    "de_key = \"6POGF+RbOGbdSUrQ2xJ3tBudlsVz/VmBpM3LyWODmI8htrrZC2aF3CqcIcEz+c/uL2WniJAbjIcBeb2PpNsbJA==\""
   ]
  },
  {
   "cell_type": "markdown",
   "id": "61766469-359a-4052-b96b-fd341047bdd4",
   "metadata": {},
   "source": [
    "- 기상 자료 개방포털 제공 :'ta', 'rn', 'ws', 'wd', 'hm', 'pv', 'td', 'pa', 'ps','ss', 'icsr', 'dsnw', 'dc10Tca', 'dc10LmcsCa', 'lcsCh', 'vs','dmstMtphNo', 'ts', 'm005Te', 'm01Te', 'm02Te', 'm03Te'"
   ]
  },
  {
   "cell_type": "code",
   "execution_count": 13,
   "id": "0b05eb3f-3930-4b8f-8b02-1006e5dda90a",
   "metadata": {},
   "outputs": [],
   "source": [
    "url = \"http://apis.data.go.kr/1360000/AsosHourlyInfoService/getWthrDataList\"\n",
    "params ={'serviceKey' : de_key, 'pageNo' : '1', 'numOfRows' : '10', 'dataType' : 'JSON',\n",
    "         'dataCd' : 'ASOS','dateCd' : 'HR','startDt' : '20230101','startHh' : '01',\n",
    "         'endDt' : '20230120','endHh' : '01','stnIds' : '108', 'totalCount' : '1', \n",
    "         'resultCode' : '00', 'resultMsg' : 'NORMAL SERVICE', 'tm' : '20220130',\n",
    "        'rnum' : '1', 'stnId' : '108','stnNm' : '서울'}"
   ]
  },
  {
   "cell_type": "code",
   "execution_count": 14,
   "id": "ecddfc43-e719-4b18-821f-c09042329627",
   "metadata": {},
   "outputs": [
    {
     "data": {
      "text/plain": [
       "<Response [200]>"
      ]
     },
     "execution_count": 14,
     "metadata": {},
     "output_type": "execute_result"
    }
   ],
   "source": [
    "response = requests.get(url, params=params)\n",
    "response"
   ]
  },
  {
   "cell_type": "code",
   "execution_count": 15,
   "id": "b01a0f74-5644-45e3-abfc-6fec7ec90e55",
   "metadata": {},
   "outputs": [],
   "source": [
    "json_dt = response.json()"
   ]
  },
  {
   "cell_type": "code",
   "execution_count": 16,
   "id": "4a22d923-6591-4f7b-bc70-13f16f2052e3",
   "metadata": {
    "tags": []
   },
   "outputs": [
    {
     "data": {
      "text/plain": [
       "{'response': {'header': {'resultCode': '00', 'resultMsg': 'NORMAL_SERVICE'},\n",
       "  'body': {'dataType': 'JSON',\n",
       "   'items': {'item': [{'tm': '2023-01-01 01:00',\n",
       "      'rnum': '1',\n",
       "      'stnId': '108',\n",
       "      'stnNm': '서울',\n",
       "      'ta': '1.5',\n",
       "      'taQcflg': '',\n",
       "      'rn': '',\n",
       "      'rnQcflg': '',\n",
       "      'ws': '1.9',\n",
       "      'wsQcflg': '',\n",
       "      'wd': '250',\n",
       "      'wdQcflg': '',\n",
       "      'hm': '71',\n",
       "      'hmQcflg': '',\n",
       "      'pv': '4.9',\n",
       "      'td': '-3.1',\n",
       "      'pa': '1018.0',\n",
       "      'paQcflg': '',\n",
       "      'ps': '1028.9',\n",
       "      'psQcflg': '',\n",
       "      'ss': '',\n",
       "      'ssQcflg': '9',\n",
       "      'icsr': '',\n",
       "      'dsnw': '',\n",
       "      'hr3Fhsc': '',\n",
       "      'dc10Tca': '6',\n",
       "      'dc10LmcsCa': '6',\n",
       "      'clfmAbbrCd': '',\n",
       "      'lcsCh': '12',\n",
       "      'vs': '1104',\n",
       "      'gndSttCd': '',\n",
       "      'dmstMtphNo': '',\n",
       "      'ts': '-1.4',\n",
       "      'tsQcflg': '',\n",
       "      'm005Te': '-0.3',\n",
       "      'm01Te': '-0.5',\n",
       "      'm02Te': '-0.5',\n",
       "      'm03Te': '0.6'},\n",
       "     {'tm': '2023-01-01 02:00',\n",
       "      'rnum': '2',\n",
       "      'stnId': '108',\n",
       "      'stnNm': '서울',\n",
       "      'ta': '1.5',\n",
       "      'taQcflg': '',\n",
       "      'rn': '',\n",
       "      'rnQcflg': '',\n",
       "      'ws': '1.9',\n",
       "      'wsQcflg': '',\n",
       "      'wd': '250',\n",
       "      'wdQcflg': '',\n",
       "      'hm': '72',\n",
       "      'hmQcflg': '',\n",
       "      'pv': '4.9',\n",
       "      'td': '-3.0',\n",
       "      'pa': '1017.8',\n",
       "      'paQcflg': '',\n",
       "      'ps': '1028.7',\n",
       "      'psQcflg': '',\n",
       "      'ss': '',\n",
       "      'ssQcflg': '9',\n",
       "      'icsr': '',\n",
       "      'dsnw': '',\n",
       "      'hr3Fhsc': '',\n",
       "      'dc10Tca': '9',\n",
       "      'dc10LmcsCa': '8',\n",
       "      'clfmAbbrCd': '',\n",
       "      'lcsCh': '11',\n",
       "      'vs': '925',\n",
       "      'gndSttCd': '',\n",
       "      'dmstMtphNo': '40',\n",
       "      'ts': '-1.6',\n",
       "      'tsQcflg': '',\n",
       "      'm005Te': '-0.3',\n",
       "      'm01Te': '-0.5',\n",
       "      'm02Te': '-0.5',\n",
       "      'm03Te': '0.6'},\n",
       "     {'tm': '2023-01-01 03:00',\n",
       "      'rnum': '3',\n",
       "      'stnId': '108',\n",
       "      'stnNm': '서울',\n",
       "      'ta': '1.6',\n",
       "      'taQcflg': '',\n",
       "      'rn': '',\n",
       "      'rnQcflg': '',\n",
       "      'ws': '1.6',\n",
       "      'wsQcflg': '',\n",
       "      'wd': '250',\n",
       "      'wdQcflg': '',\n",
       "      'hm': '74',\n",
       "      'hmQcflg': '',\n",
       "      'pv': '5.1',\n",
       "      'td': '-2.5',\n",
       "      'pa': '1018.1',\n",
       "      'paQcflg': '',\n",
       "      'ps': '1029.0',\n",
       "      'psQcflg': '',\n",
       "      'ss': '',\n",
       "      'ssQcflg': '9',\n",
       "      'icsr': '',\n",
       "      'dsnw': '',\n",
       "      'hr3Fhsc': '',\n",
       "      'dc10Tca': '8',\n",
       "      'dc10LmcsCa': '8',\n",
       "      'clfmAbbrCd': 'Sc',\n",
       "      'lcsCh': '16',\n",
       "      'vs': '794',\n",
       "      'gndSttCd': '',\n",
       "      'dmstMtphNo': '40',\n",
       "      'ts': '-1.8',\n",
       "      'tsQcflg': '',\n",
       "      'm005Te': '-0.3',\n",
       "      'm01Te': '-0.5',\n",
       "      'm02Te': '-0.5',\n",
       "      'm03Te': '0.6'},\n",
       "     {'tm': '2023-01-01 04:00',\n",
       "      'rnum': '4',\n",
       "      'stnId': '108',\n",
       "      'stnNm': '서울',\n",
       "      'ta': '1.5',\n",
       "      'taQcflg': '',\n",
       "      'rn': '',\n",
       "      'rnQcflg': '',\n",
       "      'ws': '1.4',\n",
       "      'wsQcflg': '',\n",
       "      'wd': '290',\n",
       "      'wdQcflg': '',\n",
       "      'hm': '74',\n",
       "      'hmQcflg': '',\n",
       "      'pv': '5.0',\n",
       "      'td': '-2.6',\n",
       "      'pa': '1018.1',\n",
       "      'paQcflg': '',\n",
       "      'ps': '1029.0',\n",
       "      'psQcflg': '',\n",
       "      'ss': '',\n",
       "      'ssQcflg': '9',\n",
       "      'icsr': '',\n",
       "      'dsnw': '',\n",
       "      'hr3Fhsc': '',\n",
       "      'dc10Tca': '9',\n",
       "      'dc10LmcsCa': '9',\n",
       "      'clfmAbbrCd': 'Sc',\n",
       "      'lcsCh': '10',\n",
       "      'vs': '709',\n",
       "      'gndSttCd': '',\n",
       "      'dmstMtphNo': '40',\n",
       "      'ts': '-1.3',\n",
       "      'tsQcflg': '',\n",
       "      'm005Te': '-0.2',\n",
       "      'm01Te': '-0.5',\n",
       "      'm02Te': '-0.5',\n",
       "      'm03Te': '0.6'},\n",
       "     {'tm': '2023-01-01 05:00',\n",
       "      'rnum': '5',\n",
       "      'stnId': '108',\n",
       "      'stnNm': '서울',\n",
       "      'ta': '0.8',\n",
       "      'taQcflg': '',\n",
       "      'rn': '',\n",
       "      'rnQcflg': '',\n",
       "      'ws': '2.4',\n",
       "      'wsQcflg': '',\n",
       "      'wd': '290',\n",
       "      'wdQcflg': '',\n",
       "      'hm': '62',\n",
       "      'hmQcflg': '',\n",
       "      'pv': '4.0',\n",
       "      'td': '-5.6',\n",
       "      'pa': '1018.1',\n",
       "      'paQcflg': '',\n",
       "      'ps': '1029.0',\n",
       "      'psQcflg': '',\n",
       "      'ss': '',\n",
       "      'ssQcflg': '9',\n",
       "      'icsr': '',\n",
       "      'dsnw': '',\n",
       "      'hr3Fhsc': '',\n",
       "      'dc10Tca': '7',\n",
       "      'dc10LmcsCa': '7',\n",
       "      'clfmAbbrCd': 'Sc',\n",
       "      'lcsCh': '11',\n",
       "      'vs': '1185',\n",
       "      'gndSttCd': '',\n",
       "      'dmstMtphNo': '40',\n",
       "      'ts': '-2.1',\n",
       "      'tsQcflg': '',\n",
       "      'm005Te': '-0.2',\n",
       "      'm01Te': '-0.5',\n",
       "      'm02Te': '-0.5',\n",
       "      'm03Te': '0.6'},\n",
       "     {'tm': '2023-01-01 06:00',\n",
       "      'rnum': '6',\n",
       "      'stnId': '108',\n",
       "      'stnNm': '서울',\n",
       "      'ta': '-0.2',\n",
       "      'taQcflg': '',\n",
       "      'rn': '',\n",
       "      'rnQcflg': '',\n",
       "      'ws': '3.1',\n",
       "      'wsQcflg': '',\n",
       "      'wd': '320',\n",
       "      'wdQcflg': '',\n",
       "      'hm': '67',\n",
       "      'hmQcflg': '',\n",
       "      'pv': '4.1',\n",
       "      'td': '-5.5',\n",
       "      'pa': '1018.4',\n",
       "      'paQcflg': '',\n",
       "      'ps': '1029.3',\n",
       "      'psQcflg': '',\n",
       "      'ss': '',\n",
       "      'ssQcflg': '9',\n",
       "      'icsr': '',\n",
       "      'dsnw': '',\n",
       "      'hr3Fhsc': '',\n",
       "      'dc10Tca': '1',\n",
       "      'dc10LmcsCa': '1',\n",
       "      'clfmAbbrCd': 'Sc',\n",
       "      'lcsCh': '14',\n",
       "      'vs': '962',\n",
       "      'gndSttCd': '',\n",
       "      'dmstMtphNo': '40',\n",
       "      'ts': '-3.3',\n",
       "      'tsQcflg': '',\n",
       "      'm005Te': '-0.2',\n",
       "      'm01Te': '-0.5',\n",
       "      'm02Te': '-0.5',\n",
       "      'm03Te': '0.6'},\n",
       "     {'tm': '2023-01-01 07:00',\n",
       "      'rnum': '7',\n",
       "      'stnId': '108',\n",
       "      'stnNm': '서울',\n",
       "      'ta': '-1.5',\n",
       "      'taQcflg': '',\n",
       "      'rn': '',\n",
       "      'rnQcflg': '',\n",
       "      'ws': '2.5',\n",
       "      'wsQcflg': '',\n",
       "      'wd': '270',\n",
       "      'wdQcflg': '',\n",
       "      'hm': '71',\n",
       "      'hmQcflg': '',\n",
       "      'pv': '3.9',\n",
       "      'td': '-6.0',\n",
       "      'pa': '1019.2',\n",
       "      'paQcflg': '',\n",
       "      'ps': '1030.2',\n",
       "      'psQcflg': '',\n",
       "      'ss': '',\n",
       "      'ssQcflg': '9',\n",
       "      'icsr': '',\n",
       "      'dsnw': '',\n",
       "      'hr3Fhsc': '',\n",
       "      'dc10Tca': '0',\n",
       "      'dc10LmcsCa': '0',\n",
       "      'clfmAbbrCd': '',\n",
       "      'lcsCh': '',\n",
       "      'vs': '891',\n",
       "      'gndSttCd': '',\n",
       "      'dmstMtphNo': '40',\n",
       "      'ts': '-4.1',\n",
       "      'tsQcflg': '',\n",
       "      'm005Te': '-0.3',\n",
       "      'm01Te': '-0.5',\n",
       "      'm02Te': '-0.5',\n",
       "      'm03Te': '0.6'},\n",
       "     {'tm': '2023-01-01 08:00',\n",
       "      'rnum': '8',\n",
       "      'stnId': '108',\n",
       "      'stnNm': '서울',\n",
       "      'ta': '-1.8',\n",
       "      'taQcflg': '',\n",
       "      'rn': '',\n",
       "      'rnQcflg': '',\n",
       "      'ws': '2.7',\n",
       "      'wsQcflg': '',\n",
       "      'wd': '270',\n",
       "      'wdQcflg': '',\n",
       "      'hm': '75',\n",
       "      'hmQcflg': '',\n",
       "      'pv': '4.0',\n",
       "      'td': '-5.6',\n",
       "      'pa': '1020.0',\n",
       "      'paQcflg': '',\n",
       "      'ps': '1031.0',\n",
       "      'psQcflg': '',\n",
       "      'ss': '0.0',\n",
       "      'ssQcflg': '',\n",
       "      'icsr': '0.0',\n",
       "      'dsnw': '',\n",
       "      'hr3Fhsc': '',\n",
       "      'dc10Tca': '0',\n",
       "      'dc10LmcsCa': '0',\n",
       "      'clfmAbbrCd': '',\n",
       "      'lcsCh': '',\n",
       "      'vs': '819',\n",
       "      'gndSttCd': '',\n",
       "      'dmstMtphNo': '40',\n",
       "      'ts': '-4.4',\n",
       "      'tsQcflg': '',\n",
       "      'm005Te': '-0.4',\n",
       "      'm01Te': '-0.6',\n",
       "      'm02Te': '-0.5',\n",
       "      'm03Te': '0.6'},\n",
       "     {'tm': '2023-01-01 09:00',\n",
       "      'rnum': '9',\n",
       "      'stnId': '108',\n",
       "      'stnNm': '서울',\n",
       "      'ta': '-1.7',\n",
       "      'taQcflg': '',\n",
       "      'rn': '',\n",
       "      'rnQcflg': '',\n",
       "      'ws': '2.1',\n",
       "      'wsQcflg': '',\n",
       "      'wd': '290',\n",
       "      'wdQcflg': '',\n",
       "      'hm': '75',\n",
       "      'hmQcflg': '',\n",
       "      'pv': '4.1',\n",
       "      'td': '-5.5',\n",
       "      'pa': '1020.6',\n",
       "      'paQcflg': '',\n",
       "      'ps': '1031.6',\n",
       "      'psQcflg': '',\n",
       "      'ss': '0.9',\n",
       "      'ssQcflg': '',\n",
       "      'icsr': '0.28',\n",
       "      'dsnw': '',\n",
       "      'hr3Fhsc': '',\n",
       "      'dc10Tca': '0',\n",
       "      'dc10LmcsCa': '0',\n",
       "      'clfmAbbrCd': '',\n",
       "      'lcsCh': '',\n",
       "      'vs': '763',\n",
       "      'gndSttCd': '',\n",
       "      'dmstMtphNo': '40',\n",
       "      'ts': '-3.6',\n",
       "      'tsQcflg': '',\n",
       "      'm005Te': '-0.5',\n",
       "      'm01Te': '-0.6',\n",
       "      'm02Te': '-0.5',\n",
       "      'm03Te': '0.6'},\n",
       "     {'tm': '2023-01-01 10:00',\n",
       "      'rnum': '10',\n",
       "      'stnId': '108',\n",
       "      'stnNm': '서울',\n",
       "      'ta': '-0.4',\n",
       "      'taQcflg': '',\n",
       "      'rn': '',\n",
       "      'rnQcflg': '',\n",
       "      'ws': '2.4',\n",
       "      'wsQcflg': '',\n",
       "      'wd': '270',\n",
       "      'wdQcflg': '',\n",
       "      'hm': '66',\n",
       "      'hmQcflg': '',\n",
       "      'pv': '3.9',\n",
       "      'td': '-5.9',\n",
       "      'pa': '1020.8',\n",
       "      'paQcflg': '',\n",
       "      'ps': '1031.8',\n",
       "      'psQcflg': '',\n",
       "      'ss': '1.0',\n",
       "      'ssQcflg': '',\n",
       "      'icsr': '0.83',\n",
       "      'dsnw': '',\n",
       "      'hr3Fhsc': '',\n",
       "      'dc10Tca': '0',\n",
       "      'dc10LmcsCa': '0',\n",
       "      'clfmAbbrCd': '',\n",
       "      'lcsCh': '',\n",
       "      'vs': '938',\n",
       "      'gndSttCd': '',\n",
       "      'dmstMtphNo': '40',\n",
       "      'ts': '-1.3',\n",
       "      'tsQcflg': '',\n",
       "      'm005Te': '-0.5',\n",
       "      'm01Te': '-0.7',\n",
       "      'm02Te': '-0.5',\n",
       "      'm03Te': '0.6'}]},\n",
       "   'pageNo': 1,\n",
       "   'numOfRows': 10,\n",
       "   'totalCount': 457}}}"
      ]
     },
     "execution_count": 16,
     "metadata": {},
     "output_type": "execute_result"
    }
   ],
   "source": [
    "json_dt"
   ]
  },
  {
   "cell_type": "code",
   "execution_count": 17,
   "id": "9a3a9c41-c875-41b5-b89e-a1033a7107c4",
   "metadata": {},
   "outputs": [
    {
     "data": {
      "text/plain": [
       "dict"
      ]
     },
     "execution_count": 17,
     "metadata": {},
     "output_type": "execute_result"
    }
   ],
   "source": [
    "type(json_dt)"
   ]
  },
  {
   "cell_type": "markdown",
   "id": "f09fb2c9-dd8d-42ac-9a67-ac377c613ced",
   "metadata": {},
   "source": [
    "# time만 가져오기"
   ]
  },
  {
   "cell_type": "code",
   "execution_count": 20,
   "id": "473521cd-992d-4cea-b667-505cd5cec862",
   "metadata": {},
   "outputs": [
    {
     "name": "stdout",
     "output_type": "stream",
     "text": [
      "['2023-01-01 01:00', '2023-01-01 02:00', '2023-01-01 03:00', '2023-01-01 04:00', '2023-01-01 05:00', '2023-01-01 06:00', '2023-01-01 07:00', '2023-01-01 08:00', '2023-01-01 09:00', '2023-01-01 10:00']\n"
     ]
    }
   ],
   "source": [
    "temp = []\n",
    "def get_api() :\n",
    "    item = json_dt[\"response\"][\"body\"][\"items\"][\"item\"]\n",
    "\n",
    "for i in item:\n",
    "    temp.append(i[\"tm\"])\n",
    "\n",
    "print(temp)"
   ]
  },
  {
   "cell_type": "code",
   "execution_count": 21,
   "id": "323054aa-8914-4a18-ad64-8263b1d5da0f",
   "metadata": {},
   "outputs": [
    {
     "name": "stdout",
     "output_type": "stream",
     "text": [
      "['2023-01-01 01:00', '2023-01-01 02:00', '2023-01-01 03:00', '2023-01-01 04:00', '2023-01-01 05:00', '2023-01-01 06:00', '2023-01-01 07:00', '2023-01-01 08:00', '2023-01-01 09:00', '2023-01-01 10:00']\n"
     ]
    }
   ],
   "source": [
    "time = [] # tm 을 할당할 빈리스트 생성\n",
    "\n",
    "for key,value in json_dt.items():\n",
    "    if key == \"response\" :\n",
    "        response = json_dt[key]\n",
    "        \n",
    "        for key,value in response.items() :\n",
    "            if key == \"body\" :\n",
    "                body = response[key]\n",
    "                \n",
    "                for key,value in body.items() :\n",
    "                    if key == \"items\" :\n",
    "                        items = body[key]\n",
    "                        \n",
    "                        for key,value in items.items() :\n",
    "                            if key == \"item\" :\n",
    "                                item = items[key]\n",
    "                                # item : List[dict, dict, dict]\n",
    "                                for val in item :\n",
    "                                    # value : Dict\n",
    "                                    for k,v in val.items() :        \n",
    "                                        if k == 'tm' :\n",
    "                                            time.append(v)\n",
    "print(time)"
   ]
  },
  {
   "cell_type": "markdown",
   "id": "68c15f9b-7446-4038-a241-6ca6f56ffafe",
   "metadata": {},
   "source": [
    "# ta(기온), rn(강수량), ws(풍속), wd(풍향) 가져오기"
   ]
  },
  {
   "cell_type": "code",
   "execution_count": 22,
   "id": "d65e72a3-64fc-4e24-9769-008dc89748f5",
   "metadata": {},
   "outputs": [
    {
     "name": "stdout",
     "output_type": "stream",
     "text": [
      "['1.5', '1.5', '1.6', '1.5', '0.8', '-0.2', '-1.5', '-1.8', '-1.7', '-0.4']\n",
      "['', '', '', '', '', '', '', '', '', '']\n",
      "['1.9', '1.9', '1.6', '1.4', '2.4', '3.1', '2.5', '2.7', '2.1', '2.4']\n",
      "['250', '250', '250', '290', '290', '320', '270', '270', '290', '270']\n"
     ]
    }
   ],
   "source": [
    "temperature = []\n",
    "precipitation = []\n",
    "wind_speed = []\n",
    "wind_direction = []\n",
    "\n",
    "item = json_dt[\"response\"][\"body\"][\"items\"][\"item\"]\n",
    "for i in item:\n",
    "    temperature.append(i['ta'])\n",
    "    precipitation.append(i['rn'])\n",
    "    wind_speed.append(i['ws'])\n",
    "    wind_direction.append(i['wd'])\n",
    "    \n",
    "print(temperature)\n",
    "print(precipitation)\n",
    "print(wind_speed)\n",
    "print(wind_direction)"
   ]
  },
  {
   "cell_type": "markdown",
   "id": "ab6f800e-bf61-4464-bc04-3e5f304ac5aa",
   "metadata": {},
   "source": [
    "# DB 연결"
   ]
  },
  {
   "cell_type": "code",
   "execution_count": 23,
   "id": "9e0be1dc-c081-4a43-9bc3-c486f842938e",
   "metadata": {},
   "outputs": [],
   "source": [
    "import pymysql\n",
    "import pickle # db 정보 가져올 모듈 불러오기"
   ]
  },
  {
   "cell_type": "code",
   "execution_count": 27,
   "id": "3b0654d6-ea4f-445a-82cb-3d31ed3e2e7f",
   "metadata": {},
   "outputs": [],
   "source": [
    "# pickle 모듈 이용, db 정보 가져옴\n",
    "with open('/Users/bella/GitHub/FastAPI/database/db_dict.pickle','rb') as f :\n",
    "    db_info = pickle.load(f)"
   ]
  },
  {
   "cell_type": "code",
   "execution_count": 28,
   "id": "88f0bb68-6e77-4413-8857-ed9c0cad971f",
   "metadata": {},
   "outputs": [
    {
     "data": {
      "text/plain": [
       "{'DB_USERNAME': 'root',\n",
       " 'DB_PASSWORD': 'root123',\n",
       " 'DB_HOST': '52.78.168.253',\n",
       " 'DB_PORT': 59543,\n",
       " 'DB_DATABASE': 'cocomong'}"
      ]
     },
     "execution_count": 28,
     "metadata": {},
     "output_type": "execute_result"
    }
   ],
   "source": [
    "db_info"
   ]
  },
  {
   "cell_type": "code",
   "execution_count": 29,
   "id": "3924d8ff-d049-46d1-a0ef-b6b0ebaf7410",
   "metadata": {},
   "outputs": [],
   "source": [
    "DB_USERNAME : str = db_info.get(\"DB_USERNAME\")\n",
    "DB_PASSWORD = db_info.get(\"DB_PASSWORD\")\n",
    "DB_HOST : str = db_info.get(\"DB_HOST\",\"localhost\")\n",
    "DB_PORT : str = db_info.get(\"DB_PORT\",3306)\n",
    "DB_DATABASE : str = db_info.get(\"DB_DATABASE\")"
   ]
  },
  {
   "cell_type": "code",
   "execution_count": 30,
   "id": "fa1c5c51-d84a-430d-bc90-0ecb048a0bb5",
   "metadata": {},
   "outputs": [],
   "source": [
    "# db 연결\n",
    "db = pymysql.connect(\n",
    "    user = DB_USERNAME,\n",
    "    passwd = DB_PASSWORD,\n",
    "    host = DB_HOST,\n",
    "    port = DB_PORT,\n",
    "    database = DB_DATABASE\n",
    ")"
   ]
  },
  {
   "cell_type": "markdown",
   "id": "5450530b-4e82-4303-a610-017c9e28165d",
   "metadata": {},
   "source": [
    "# MySQL 쿼리문 작성"
   ]
  },
  {
   "cell_type": "code",
   "execution_count": 9,
   "id": "cec183b7-12f9-49b6-bcc2-2f148e6cb477",
   "metadata": {},
   "outputs": [
    {
     "ename": "NameError",
     "evalue": "name 'db' is not defined",
     "output_type": "error",
     "traceback": [
      "\u001b[0;31m---------------------------------------------------------------------------\u001b[0m",
      "\u001b[0;31mNameError\u001b[0m                                 Traceback (most recent call last)",
      "Input \u001b[0;32mIn [9]\u001b[0m, in \u001b[0;36m<cell line: 11>\u001b[0;34m()\u001b[0m\n\u001b[1;32m      2\u001b[0m sql \u001b[38;5;241m=\u001b[39m \u001b[38;5;124m'''\u001b[39m\n\u001b[1;32m      3\u001b[0m \u001b[38;5;124m    CREATE TABLE IF NOT EXISTS `test`(\u001b[39m\n\u001b[1;32m      4\u001b[0m \u001b[38;5;124m        `id` INT UNSIGNED NOT NULL AUTO_INCREMENT,\u001b[39m\n\u001b[0;32m   (...)\u001b[0m\n\u001b[1;32m      8\u001b[0m \u001b[38;5;124m    ENGINE = InnoDB DEFAULT CHARSET = utf8\u001b[39m\n\u001b[1;32m      9\u001b[0m \u001b[38;5;124m    \u001b[39m\u001b[38;5;124m'''\u001b[39m\n\u001b[1;32m     10\u001b[0m \u001b[38;5;66;03m# 테이블 생성\u001b[39;00m\n\u001b[0;32m---> 11\u001b[0m \u001b[38;5;28;01mwith\u001b[39;00m \u001b[43mdb\u001b[49m\u001b[38;5;241m.\u001b[39mcursor() \u001b[38;5;28;01mas\u001b[39;00m cursor:\n\u001b[1;32m     12\u001b[0m         cursor\u001b[38;5;241m.\u001b[39mexecute(sql)\n",
      "\u001b[0;31mNameError\u001b[0m: name 'db' is not defined"
     ]
    }
   ],
   "source": [
    "# 테이블 생성 sql 정의 \n",
    "sql = '''\n",
    "    CREATE TABLE IF NOT EXISTS `test`(\n",
    "        `id` INT UNSIGNED NOT NULL AUTO_INCREMENT,\n",
    "        `time` text NULL,\n",
    "        PRIMARY KEY (`id`)\n",
    "    )\n",
    "    ENGINE = InnoDB DEFAULT CHARSET = utf8\n",
    "    '''\n",
    "# 테이블 생성\n",
    "with db.cursor() as cursor:\n",
    "        cursor.execute(sql)"
   ]
  },
  {
   "cell_type": "code",
   "execution_count": 10,
   "id": "f8c8ed82-25f9-4c97-aa88-40adc1c9777c",
   "metadata": {},
   "outputs": [
    {
     "ename": "NameError",
     "evalue": "name 'time' is not defined",
     "output_type": "error",
     "traceback": [
      "\u001b[0;31m---------------------------------------------------------------------------\u001b[0m",
      "\u001b[0;31mNameError\u001b[0m                                 Traceback (most recent call last)",
      "Input \u001b[0;32mIn [10]\u001b[0m, in \u001b[0;36m<cell line: 1>\u001b[0;34m()\u001b[0m\n\u001b[0;32m----> 1\u001b[0m \u001b[38;5;28mprint\u001b[39m(\u001b[43mtime\u001b[49m)\n",
      "\u001b[0;31mNameError\u001b[0m: name 'time' is not defined"
     ]
    }
   ],
   "source": [
    "print(time)"
   ]
  },
  {
   "cell_type": "code",
   "execution_count": 87,
   "id": "3d709d59-2db8-4ffd-8f55-6154fc990d18",
   "metadata": {},
   "outputs": [],
   "source": [
    "time_1 = time[1]\n",
    "time_2 = time[2]\n",
    "time_3 = time[3]"
   ]
  },
  {
   "cell_type": "code",
   "execution_count": 89,
   "id": "42176973-e06f-4005-836b-070b38640a20",
   "metadata": {},
   "outputs": [
    {
     "data": {
      "text/plain": [
       "str"
      ]
     },
     "execution_count": 89,
     "metadata": {},
     "output_type": "execute_result"
    }
   ],
   "source": [
    "type(time_1)"
   ]
  },
  {
   "cell_type": "markdown",
   "id": "39e52b80-995b-4cf0-a78b-0c3806cc2227",
   "metadata": {},
   "source": [
    "# db 실행 함수"
   ]
  },
  {
   "cell_type": "code",
   "execution_count": 31,
   "id": "7ba329a7-5076-4fde-a77a-6e4def03e6fa",
   "metadata": {},
   "outputs": [],
   "source": [
    "def execute_query(query) :\n",
    "    with db.cursor() as cursor:\n",
    "        cursor.execute(query)\n",
    "        db.commit()"
   ]
  },
  {
   "cell_type": "markdown",
   "id": "9f93f5fb-6496-4da0-b97c-8fc15dc0880b",
   "metadata": {},
   "source": [
    "# tm(time) SQL에 넣기"
   ]
  },
  {
   "cell_type": "code",
   "execution_count": 142,
   "id": "7a6fceb2-6d87-4870-804a-df3ec1e06fd6",
   "metadata": {},
   "outputs": [],
   "source": [
    "# db에 데이터 저장\n",
    "\n",
    "# 하나씩 빼옴\n",
    "for tm in time :\n",
    "    tm_1 = tm\n",
    "    sql_insert = f'''INSERT test(time) VALUES ('{tm_1}') '''\n",
    "    \n",
    "    # db에 저장!\n",
    "    execute_query(sql_insert)"
   ]
  },
  {
   "cell_type": "code",
   "execution_count": 127,
   "id": "963cfa41-8a70-4b33-b030-a00d8f583f2a",
   "metadata": {},
   "outputs": [
    {
     "name": "stdout",
     "output_type": "stream",
     "text": [
      "2023-01-01 01:00\n",
      "2023-01-01 02:00\n",
      "2023-01-01 03:00\n",
      "2023-01-01 04:00\n",
      "2023-01-01 05:00\n",
      "2023-01-01 06:00\n",
      "2023-01-01 07:00\n",
      "2023-01-01 08:00\n",
      "2023-01-01 09:00\n",
      "2023-01-01 10:00\n"
     ]
    }
   ],
   "source": [
    "# temp1\n",
    "for tm in time :\n",
    "    tm_1 = tm\n",
    "    print(tm_1)"
   ]
  },
  {
   "cell_type": "code",
   "execution_count": 106,
   "id": "6bb3c38d-3690-48d5-bf0b-e3158f7368fd",
   "metadata": {},
   "outputs": [
    {
     "data": {
      "text/plain": [
       "'2023-01-01 10:00'"
      ]
     },
     "execution_count": 106,
     "metadata": {},
     "output_type": "execute_result"
    }
   ],
   "source": [
    "tm_f"
   ]
  },
  {
   "cell_type": "code",
   "execution_count": 70,
   "id": "5673157c-2d91-4aab-8eb3-c71119c4478d",
   "metadata": {},
   "outputs": [
    {
     "data": {
      "text/plain": [
       "list"
      ]
     },
     "execution_count": 70,
     "metadata": {},
     "output_type": "execute_result"
    }
   ],
   "source": [
    "type(time)"
   ]
  },
  {
   "cell_type": "code",
   "execution_count": 130,
   "id": "458f2d64-abeb-4507-8793-7813ce10680f",
   "metadata": {},
   "outputs": [
    {
     "name": "stdout",
     "output_type": "stream",
     "text": [
      "0\n",
      "1\n",
      "2\n",
      "3\n",
      "4\n",
      "5\n",
      "6\n",
      "7\n",
      "8\n",
      "9\n"
     ]
    }
   ],
   "source": [
    "# temp so many,,,\n",
    "for i in range(10) :\n",
    "    i2 = i\n",
    "    print(i2)"
   ]
  },
  {
   "cell_type": "markdown",
   "id": "ca1eda65-1fb2-49f3-83b0-d6feaeb8de37",
   "metadata": {},
   "source": [
    "# SQL에 컬럼 추가"
   ]
  },
  {
   "cell_type": "markdown",
   "id": "53cfdf6f-b6c0-4223-bf7d-c741a5a1d2c0",
   "metadata": {},
   "source": [
    "- 추가할 컬럼들 목록\n",
    "    - temperature\n",
    "    - precipitation\n",
    "    - wind_speed \n",
    "    - wind_direction"
   ]
  },
  {
   "cell_type": "markdown",
   "id": "e9935f62-2a7a-4d8c-9d00-e1a103862adf",
   "metadata": {},
   "source": [
    "- query\n",
    "\n",
    "```\n",
    "ALTER TABLE test ADD temperature FLOAT NOT NULL;\n",
    "ALTER TABLE test ADD precipitation FLOAT NOT NULL;\n",
    "ALTER TABLE test ADD wind_speed FLOAT NOT NULL;\n",
    "ALTER TABLE test ADD wind_direction INT NOT NULL;\n",
    "```"
   ]
  },
  {
   "cell_type": "markdown",
   "id": "2dd7441c-28d3-4a76-875d-f74d3ff9f5ff",
   "metadata": {},
   "source": [
    "# ta(기온), rn(강수량), ws(풍속), wd(풍향) SQL 에 넣기"
   ]
  },
  {
   "cell_type": "code",
   "execution_count": 33,
   "id": "482b697a-703e-4366-9521-8088dbfdcb7e",
   "metadata": {},
   "outputs": [],
   "source": [
    "# db에 데이터 저장\n",
    "\n",
    "# 하나씩 빼옴\n",
    "for ta in temperature :\n",
    "    sql_insert = f'''INSERT test(temperature) VALUES ('{ta}') '''\n",
    "    \n",
    "    # db에 저장!\n",
    "    execute_query(sql_insert)"
   ]
  },
  {
   "cell_type": "markdown",
   "id": "e81764b7-18ca-4931-ae7d-7f78738c6cdb",
   "metadata": {},
   "source": [
    "- 리스트의 길이 만큼 반복(4개의 배열이 길이가 같기 때문에 사옹 가능)\n",
    "```\n",
    "ex.\n",
    "for idx in range(0, len(time)):\n",
    "    tm = time[idx]\n",
    "    ta = temperature[idx]\n",
    "    ws = windspeed[idx]\n",
    "    wd = winddirection[idx]\n",
    "    print(tm, ta, ws, wd)\n",
    "```\n",
    "- 하나의 리스트에서 값을 빼오는 방식 \n",
    "- index를 같이 가져오기 때문에 그 index를 활용하여 나머지 리스트에서 값을 가져오는 방식\n",
    "```\n",
    "ex.\n",
    "for idx, tm in enumerate(time):\n",
    "    ta = temperature[idx]\n",
    "    ws = windspeed[idx]\n",
    "    wd = winddirection[idx]\n",
    "    print(tm, ta, ws, wd)\n",
    "```"
   ]
  },
  {
   "cell_type": "code",
   "execution_count": 35,
   "id": "e3103519-1a1b-4ff9-860d-150a5525a0cf",
   "metadata": {},
   "outputs": [],
   "source": [
    "# 하나씩 빼옴\n",
    "for ws in wind_speed :\n",
    "    sql_insert = f'''INSERT test(wind_speed) VALUES ('{ws}') '''\n",
    "    \n",
    "    # db에 저장!\n",
    "    execute_query(sql_insert)"
   ]
  },
  {
   "cell_type": "code",
   "execution_count": null,
   "id": "6fbdde7a-aea4-4281-9059-88f678dcd23e",
   "metadata": {},
   "outputs": [],
   "source": []
  }
 ],
 "metadata": {
  "kernelspec": {
   "display_name": "Python 3 (ipykernel)",
   "language": "python",
   "name": "python3"
  },
  "language_info": {
   "codemirror_mode": {
    "name": "ipython",
    "version": 3
   },
   "file_extension": ".py",
   "mimetype": "text/x-python",
   "name": "python",
   "nbconvert_exporter": "python",
   "pygments_lexer": "ipython3",
   "version": "3.9.12"
  }
 },
 "nbformat": 4,
 "nbformat_minor": 5
}
