{
 "cells": [
  {
   "cell_type": "code",
   "execution_count": 13,
   "id": "92abdfb0-dd8e-4447-9539-769854d9df2e",
   "metadata": {},
   "outputs": [],
   "source": [
    "from sqlalchemy import create_engine\n",
    "from sqlalchemy.ext.declarative import declarative_base\n",
    "from sqlalchemy.orm import sessionmaker\n",
    "import pickle"
   ]
  },
  {
   "cell_type": "code",
   "execution_count": 14,
   "id": "64c6085c-2b71-4ba3-b366-ccf37534bd0a",
   "metadata": {},
   "outputs": [],
   "source": [
    "import pandas as pd"
   ]
  },
  {
   "cell_type": "markdown",
   "id": "6bc8d036-9a93-4bb9-8d5c-866ce04ba4a4",
   "metadata": {},
   "source": [
    "# DB 연결"
   ]
  },
  {
   "cell_type": "code",
   "execution_count": 15,
   "id": "a98104d3-204d-47f7-ad95-8d0bb3335910",
   "metadata": {},
   "outputs": [],
   "source": [
    "# pickle 모듈 이용, db 정보 가져옴\n",
    "with open('/Users/bella/GitHub/FastAPI/database/db_dict.pickle','rb') as f :\n",
    "    db_info = pickle.load(f)"
   ]
  },
  {
   "cell_type": "code",
   "execution_count": 16,
   "id": "511ac9d8-69de-4a69-b8e8-11ddc3464d27",
   "metadata": {},
   "outputs": [
    {
     "data": {
      "text/plain": [
       "{'DB_USERNAME': 'root',\n",
       " 'DB_PASSWORD': 'root123',\n",
       " 'DB_HOST': '52.78.168.253',\n",
       " 'DB_PORT': 59543,\n",
       " 'DB_DATABASE': 'cocomong'}"
      ]
     },
     "execution_count": 16,
     "metadata": {},
     "output_type": "execute_result"
    }
   ],
   "source": [
    "db_info"
   ]
  },
  {
   "cell_type": "code",
   "execution_count": 17,
   "id": "f367338b-0e57-4d83-be2b-6ba012945fdc",
   "metadata": {},
   "outputs": [],
   "source": [
    "DB_USERNAME : str = db_info.get(\"DB_USERNAME\")\n",
    "DB_PASSWORD = db_info.get(\"DB_PASSWORD\")\n",
    "DB_HOST : str = db_info.get(\"DB_HOST\",\"localhost\")\n",
    "DB_PORT : str = db_info.get(\"DB_PORT\",3306)\n",
    "DB_DATABASE : str = db_info.get(\"DB_DATABASE\")\n",
    "    \n",
    "DB_URL = f\"mysql+pymysql://{DB_USERNAME}:{DB_PASSWORD}@{DB_HOST}:{DB_PORT}/{DB_DATABASE}\""
   ]
  },
  {
   "cell_type": "code",
   "execution_count": 18,
   "id": "8c126d7a-860e-47f7-bf8e-7bbdb6666049",
   "metadata": {},
   "outputs": [],
   "source": [
    "engine = create_engine(DB_URL)"
   ]
  },
  {
   "cell_type": "code",
   "execution_count": 19,
   "id": "8a47d63a-da8c-44e3-bae8-907d8cec2f3c",
   "metadata": {},
   "outputs": [],
   "source": [
    "# db 연결\n",
    "conn = engine.connect()"
   ]
  },
  {
   "cell_type": "code",
   "execution_count": 20,
   "id": "0a118332-8795-4e15-a5a0-1e2724bc1349",
   "metadata": {},
   "outputs": [
    {
     "data": {
      "text/plain": [
       "<sqlalchemy.engine.base.Connection at 0x7f8db37d1970>"
      ]
     },
     "execution_count": 20,
     "metadata": {},
     "output_type": "execute_result"
    }
   ],
   "source": [
    "conn"
   ]
  },
  {
   "cell_type": "markdown",
   "id": "4b1cc2d0-32bd-44a8-9876-a195a24f3fc1",
   "metadata": {},
   "source": [
    "# DB에 데이터 넣기 "
   ]
  },
  {
   "cell_type": "code",
   "execution_count": null,
   "id": "bc22b223-c920-40a6-ad9e-97466ed51926",
   "metadata": {},
   "outputs": [],
   "source": [
    "df = pd.read_csv(\"pollutant_weather_df.csv\")\n",
    "df"
   ]
  },
  {
   "cell_type": "code",
   "execution_count": null,
   "id": "c6625c56-d94f-4f40-b9b3-bbdcef2d2331",
   "metadata": {},
   "outputs": [],
   "source": [
    "df.to_sql(name = 'AirKorea', con = engine, if_exists = 'append', index=False)  "
   ]
  }
 ],
 "metadata": {
  "kernelspec": {
   "display_name": "Python 3 (ipykernel)",
   "language": "python",
   "name": "python3"
  },
  "language_info": {
   "codemirror_mode": {
    "name": "ipython",
    "version": 3
   },
   "file_extension": ".py",
   "mimetype": "text/x-python",
   "name": "python",
   "nbconvert_exporter": "python",
   "pygments_lexer": "ipython3",
   "version": "3.9.12"
  }
 },
 "nbformat": 4,
 "nbformat_minor": 5
}
