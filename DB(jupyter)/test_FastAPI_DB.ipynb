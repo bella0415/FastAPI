{
 "cells": [
  {
   "cell_type": "markdown",
   "id": "61fe720f-7070-44e1-aed0-41a456572c7f",
   "metadata": {},
   "source": [
    "# ORM \n",
    "- api 서버에서 직접 쿼리문을 작성하여 DB로 날리는 방식도 사용할 수 있지만\n",
    "- 코드 가독성이 떨어지기 때문에 협업에 불리함\n",
    "- Fastapi는 공식적으로 ORM 방식을 권장"
   ]
  },
  {
   "cell_type": "markdown",
   "id": "21623c55-638f-47e2-97ae-2f6c3905d036",
   "metadata": {},
   "source": [
    "# SQLAlchemy\n",
    "- 파이썬에서 ORM이 가능하도록 해주는 툴킷"
   ]
  },
  {
   "cell_type": "markdown",
   "id": "f1d6ec7f-6060-4555-a1a0-857f23664ded",
   "metadata": {},
   "source": [
    "# 프로젝트 구조\n",
    "\n",
    "- sql_app\n",
    "    - \\_\\_init__.py\n",
    "        - 비어 있는 파일\n",
    "        - 모든 모듈이 패키지로 연결됨을 표현\n",
    "        \n",
    "    - crud.py\n",
    "    - database.py\n",
    "    - main.py\n",
    "    - models.py\n",
    "        - db와 소통하는 객체\n",
    "    - schemas.py"
   ]
  },
  {
   "cell_type": "code",
   "execution_count": 23,
   "id": "26a9e8e4-7eaa-4c51-b1ef-875acbd5c68f",
   "metadata": {},
   "outputs": [],
   "source": [
    "import requests\n",
    "import json"
   ]
  },
  {
   "cell_type": "code",
   "execution_count": 24,
   "id": "532a685e-faf4-463e-8842-12f84d81624f",
   "metadata": {},
   "outputs": [],
   "source": [
    "url = \"http://127.0.0.1:8000\""
   ]
  },
  {
   "cell_type": "code",
   "execution_count": 25,
   "id": "032d6a92-9454-4852-b378-2fabf1017a89",
   "metadata": {},
   "outputs": [],
   "source": [
    "res = requests.get(url + \"/users/\")"
   ]
  },
  {
   "cell_type": "code",
   "execution_count": 26,
   "id": "10ba9f0a-f3fa-4e16-a97f-596dc595ac37",
   "metadata": {},
   "outputs": [
    {
     "data": {
      "text/plain": [
       "<Response [200]>"
      ]
     },
     "execution_count": 26,
     "metadata": {},
     "output_type": "execute_result"
    }
   ],
   "source": [
    "res"
   ]
  },
  {
   "cell_type": "code",
   "execution_count": 27,
   "id": "23a18ee0-510c-422a-a35c-d2c87ba4a607",
   "metadata": {},
   "outputs": [],
   "source": [
    "data = {\"email\" : \"foo@bar.com\",\n",
    "       \"password\" : \"abcd\"}\n",
    "\n",
    "res = requests.post(url + \"/users/\",data = json.dumps(data))"
   ]
  },
  {
   "cell_type": "code",
   "execution_count": 28,
   "id": "19458657-fa36-4166-aa2f-61eaa50b0bf5",
   "metadata": {},
   "outputs": [
    {
     "data": {
      "text/plain": [
       "<Response [200]>"
      ]
     },
     "execution_count": 28,
     "metadata": {},
     "output_type": "execute_result"
    }
   ],
   "source": [
    "res"
   ]
  },
  {
   "cell_type": "code",
   "execution_count": 29,
   "id": "ae2eacc7-2069-40b6-bfc0-c8db2092e717",
   "metadata": {},
   "outputs": [],
   "source": [
    "res = requests.get(url + \"/users/\")"
   ]
  },
  {
   "cell_type": "code",
   "execution_count": 30,
   "id": "c1066192-1128-430f-8149-06fd32274e05",
   "metadata": {},
   "outputs": [
    {
     "data": {
      "text/plain": [
       "[{'email': 'foo@bar.com', 'id': 1, 'is_active': True, 'items': []}]"
      ]
     },
     "execution_count": 30,
     "metadata": {},
     "output_type": "execute_result"
    }
   ],
   "source": [
    "res.json()"
   ]
  },
  {
   "cell_type": "code",
   "execution_count": 31,
   "id": "81bdc572-bc51-49c1-91fa-342386532ceb",
   "metadata": {},
   "outputs": [],
   "source": [
    "data = {\"email\" : \"foo@bar.com\",\n",
    "       \"password\" : \"abcd\"}\n",
    "\n",
    "res = requests.post(url + \"/users/\",data = json.dumps(data))"
   ]
  },
  {
   "cell_type": "code",
   "execution_count": 32,
   "id": "87c4b959-3365-45b9-bf00-a2a9f4833d7f",
   "metadata": {},
   "outputs": [
    {
     "data": {
      "text/plain": [
       "<Response [400]>"
      ]
     },
     "execution_count": 32,
     "metadata": {},
     "output_type": "execute_result"
    }
   ],
   "source": [
    "res"
   ]
  },
  {
   "cell_type": "code",
   "execution_count": 33,
   "id": "49c02f47-6fee-41be-864d-3ed8b8a94694",
   "metadata": {},
   "outputs": [
    {
     "data": {
      "text/plain": [
       "{'detail': 'Email already registered'}"
      ]
     },
     "execution_count": 33,
     "metadata": {},
     "output_type": "execute_result"
    }
   ],
   "source": [
    "res.json()"
   ]
  },
  {
   "cell_type": "markdown",
   "id": "9b426d54-5387-41c2-b062-25b2f14eca4e",
   "metadata": {},
   "source": [
    "#################################################################################"
   ]
  },
  {
   "cell_type": "code",
   "execution_count": 37,
   "id": "70ce9995-a324-42e0-ba4d-c51a6b925488",
   "metadata": {},
   "outputs": [],
   "source": [
    "string = \"Hello word!\""
   ]
  },
  {
   "cell_type": "code",
   "execution_count": 42,
   "id": "c08c795c-6e7e-4514-b0f6-298045e0a758",
   "metadata": {},
   "outputs": [
    {
     "data": {
      "text/plain": [
       "'Helloword!'"
      ]
     },
     "execution_count": 42,
     "metadata": {},
     "output_type": "execute_result"
    }
   ],
   "source": [
    "re1 = string.replace(\" \",\"\")\n",
    "re1"
   ]
  },
  {
   "cell_type": "code",
   "execution_count": 44,
   "id": "30f13518-1285-46c7-b30d-c53c8b2ed707",
   "metadata": {},
   "outputs": [
    {
     "data": {
      "text/plain": [
       "'Helloword!!!'"
      ]
     },
     "execution_count": 44,
     "metadata": {},
     "output_type": "execute_result"
    }
   ],
   "source": [
    "re2 = re1.replace(\"!\",\"!!!\")\n",
    "re2"
   ]
  },
  {
   "cell_type": "code",
   "execution_count": 45,
   "id": "e703eb46-3874-4aa2-9420-d59315bd46d6",
   "metadata": {},
   "outputs": [],
   "source": [
    "string = re2.upper()"
   ]
  },
  {
   "cell_type": "code",
   "execution_count": 46,
   "id": "ac3ff4ab-51d8-493a-a197-cb2a162d691e",
   "metadata": {},
   "outputs": [
    {
     "data": {
      "text/plain": [
       "'HELLOWORD!!!'"
      ]
     },
     "execution_count": 46,
     "metadata": {},
     "output_type": "execute_result"
    }
   ],
   "source": [
    "string"
   ]
  },
  {
   "cell_type": "code",
   "execution_count": 130,
   "id": "f36a01b7-9766-4ca4-b609-336ad3cd281b",
   "metadata": {},
   "outputs": [],
   "source": [
    "def convert(text) :\n",
    "    text = __add__(\">>>\") + text.replace(\"i\",\"1\").replace(\"o\",\"0\").upper().__add__(\"<<<\") \n",
    "    return text"
   ]
  },
  {
   "cell_type": "code",
   "execution_count": 131,
   "id": "d708aa8e-7718-4c2f-9c88-e8576bbc88d2",
   "metadata": {},
   "outputs": [
    {
     "data": {
      "text/plain": [
       "'>>>D0M1N1CK<<<'"
      ]
     },
     "execution_count": 131,
     "metadata": {},
     "output_type": "execute_result"
    }
   ],
   "source": [
    "convert(\"Dominick\")"
   ]
  },
  {
   "cell_type": "code",
   "execution_count": 121,
   "id": "234ecc44-df50-44c1-a10b-f3b411ab6e7f",
   "metadata": {},
   "outputs": [
    {
     "data": {
      "text/plain": [
       "['__add__',\n",
       " '__class__',\n",
       " '__contains__',\n",
       " '__delattr__',\n",
       " '__dir__',\n",
       " '__doc__',\n",
       " '__eq__',\n",
       " '__format__',\n",
       " '__ge__',\n",
       " '__getattribute__',\n",
       " '__getitem__',\n",
       " '__getnewargs__',\n",
       " '__gt__',\n",
       " '__hash__',\n",
       " '__init__',\n",
       " '__init_subclass__',\n",
       " '__iter__',\n",
       " '__le__',\n",
       " '__len__',\n",
       " '__lt__',\n",
       " '__mod__',\n",
       " '__mul__',\n",
       " '__ne__',\n",
       " '__new__',\n",
       " '__reduce__',\n",
       " '__reduce_ex__',\n",
       " '__repr__',\n",
       " '__rmod__',\n",
       " '__rmul__',\n",
       " '__setattr__',\n",
       " '__sizeof__',\n",
       " '__str__',\n",
       " '__subclasshook__',\n",
       " 'capitalize',\n",
       " 'casefold',\n",
       " 'center',\n",
       " 'count',\n",
       " 'encode',\n",
       " 'endswith',\n",
       " 'expandtabs',\n",
       " 'find',\n",
       " 'format',\n",
       " 'format_map',\n",
       " 'index',\n",
       " 'isalnum',\n",
       " 'isalpha',\n",
       " 'isascii',\n",
       " 'isdecimal',\n",
       " 'isdigit',\n",
       " 'isidentifier',\n",
       " 'islower',\n",
       " 'isnumeric',\n",
       " 'isprintable',\n",
       " 'isspace',\n",
       " 'istitle',\n",
       " 'isupper',\n",
       " 'join',\n",
       " 'ljust',\n",
       " 'lower',\n",
       " 'lstrip',\n",
       " 'maketrans',\n",
       " 'partition',\n",
       " 'removeprefix',\n",
       " 'removesuffix',\n",
       " 'replace',\n",
       " 'rfind',\n",
       " 'rindex',\n",
       " 'rjust',\n",
       " 'rpartition',\n",
       " 'rsplit',\n",
       " 'rstrip',\n",
       " 'split',\n",
       " 'splitlines',\n",
       " 'startswith',\n",
       " 'strip',\n",
       " 'swapcase',\n",
       " 'title',\n",
       " 'translate',\n",
       " 'upper',\n",
       " 'zfill']"
      ]
     },
     "execution_count": 121,
     "metadata": {},
     "output_type": "execute_result"
    }
   ],
   "source": [
    "dir(str)"
   ]
  },
  {
   "cell_type": "code",
   "execution_count": 155,
   "id": "0dcc7d30-e215-4278-84dd-098bcba8b3a9",
   "metadata": {},
   "outputs": [],
   "source": [
    "is_vaild = True"
   ]
  },
  {
   "cell_type": "code",
   "execution_count": 157,
   "id": "f513481f-5f37-4297-a20a-4689d7951ce0",
   "metadata": {},
   "outputs": [
    {
     "name": "stdout",
     "output_type": "stream",
     "text": [
      "YES\n"
     ]
    }
   ],
   "source": [
    "if is_vaild == True :\n",
    "    print(\"YES\")\n",
    "    \n",
    "else :\n",
    "    print(\"NO\")\n"
   ]
  },
  {
   "cell_type": "code",
   "execution_count": 158,
   "id": "d905814e-5e45-4e5f-b8f5-4f83d7b74b32",
   "metadata": {},
   "outputs": [
    {
     "data": {
      "text/plain": [
       "'YES'"
      ]
     },
     "execution_count": 158,
     "metadata": {},
     "output_type": "execute_result"
    }
   ],
   "source": [
    "\"YES\" if is_vaild == True else \"NO\""
   ]
  },
  {
   "cell_type": "code",
   "execution_count": 180,
   "id": "779a4048-1ec0-43e0-b6e5-2edb768f6190",
   "metadata": {},
   "outputs": [],
   "source": [
    "name = \"이름\""
   ]
  },
  {
   "cell_type": "code",
   "execution_count": 171,
   "id": "9c3dcc2f-950f-4540-b76f-3b67aa1d3588",
   "metadata": {},
   "outputs": [
    {
     "name": "stdout",
     "output_type": "stream",
     "text": [
      "None\n"
     ]
    }
   ],
   "source": [
    "if name == \"이슬\" :\n",
    "    print([\"django\",\"fastapi\",\"sql\"])\n",
    "else :\n",
    "    print(None)"
   ]
  },
  {
   "cell_type": "code",
   "execution_count": 181,
   "id": "b7dac812-57b3-432c-bbcf-ebb917f0fef8",
   "metadata": {},
   "outputs": [
    {
     "name": "stdout",
     "output_type": "stream",
     "text": [
      "None\n"
     ]
    }
   ],
   "source": [
    "['django','fastapi','sql'] if name == \"이슬\" else print(None)"
   ]
  },
  {
   "cell_type": "code",
   "execution_count": 211,
   "id": "cf2ea07d-ce22-4dd9-a361-8086e58bfbb3",
   "metadata": {},
   "outputs": [],
   "source": [
    "vaild = False"
   ]
  },
  {
   "cell_type": "code",
   "execution_count": 213,
   "id": "3abd6eaf-9115-4876-8e39-e43c3a55cc1a",
   "metadata": {},
   "outputs": [
    {
     "data": {
      "text/plain": [
       "[0,\n",
       " 3,\n",
       " 6,\n",
       " 9,\n",
       " 12,\n",
       " 15,\n",
       " 18,\n",
       " 21,\n",
       " 24,\n",
       " 27,\n",
       " 30,\n",
       " 33,\n",
       " 36,\n",
       " 39,\n",
       " 42,\n",
       " 45,\n",
       " 48,\n",
       " 51,\n",
       " 54,\n",
       " 57,\n",
       " 60,\n",
       " 63,\n",
       " 66,\n",
       " 69,\n",
       " 72,\n",
       " 75,\n",
       " 78,\n",
       " 81,\n",
       " 84,\n",
       " 87,\n",
       " 90,\n",
       " 93,\n",
       " 96,\n",
       " 99]"
      ]
     },
     "execution_count": 213,
     "metadata": {},
     "output_type": "execute_result"
    }
   ],
   "source": [
    "list(range(0,101,2)) if vaild == True else list(range(0,101,3))"
   ]
  },
  {
   "cell_type": "code",
   "execution_count": 216,
   "id": "1ceef3ac-baf4-4307-8d86-1e73e884d5b7",
   "metadata": {},
   "outputs": [],
   "source": [
    "lst = [1,1,2,3,5,8,13,21,34]"
   ]
  },
  {
   "cell_type": "code",
   "execution_count": 219,
   "id": "a8d0e455-30ce-4ea4-87c9-5b631d6d20f1",
   "metadata": {},
   "outputs": [
    {
     "name": "stdout",
     "output_type": "stream",
     "text": [
      "1 : 1\n",
      "2 : 1\n",
      "3 : 2\n",
      "4 : 3\n",
      "5 : 5\n",
      "6 : 8\n",
      "7 : 13\n",
      "8 : 21\n",
      "9 : 34\n"
     ]
    }
   ],
   "source": [
    "for i, idx in enumerate (lst,start = 1) :\n",
    "    print(f'{i} : {idx}')"
   ]
  },
  {
   "cell_type": "code",
   "execution_count": null,
   "id": "dae6ca1d-2e59-408e-81a8-83f9751cf95b",
   "metadata": {},
   "outputs": [],
   "source": []
  }
 ],
 "metadata": {
  "kernelspec": {
   "display_name": "Python 3 (ipykernel)",
   "language": "python",
   "name": "python3"
  },
  "language_info": {
   "codemirror_mode": {
    "name": "ipython",
    "version": 3
   },
   "file_extension": ".py",
   "mimetype": "text/x-python",
   "name": "python",
   "nbconvert_exporter": "python",
   "pygments_lexer": "ipython3",
   "version": "3.9.12"
  }
 },
 "nbformat": 4,
 "nbformat_minor": 5
}
