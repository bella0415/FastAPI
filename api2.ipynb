{
 "cells": [
  {
   "cell_type": "code",
   "execution_count": 9,
   "metadata": {},
   "outputs": [],
   "source": [
    "import pandas as pd\n",
    "from Weather import get_weather\n",
    "from Pollution import get_pollution"
   ]
  },
  {
   "cell_type": "code",
   "execution_count": 2,
   "metadata": {},
   "outputs": [],
   "source": [
    "weather = get_weather()"
   ]
  },
  {
   "cell_type": "code",
   "execution_count": 3,
   "metadata": {},
   "outputs": [],
   "source": [
    "pollution = get_pollution()"
   ]
  },
  {
   "cell_type": "code",
   "execution_count": 31,
   "metadata": {},
   "outputs": [],
   "source": [
    "all_df = pd.concat([weather, pollution], axis=1)"
   ]
  },
  {
   "cell_type": "code",
   "execution_count": 32,
   "metadata": {},
   "outputs": [],
   "source": [
    "with open(\"model_features.txt\", \"r\") as f:\n",
    "    used_cols = []\n",
    "    for line in f.readlines():\n",
    "        used_cols.append(line.replace(\"\\n\", \"\").strip())"
   ]
  },
  {
   "cell_type": "code",
   "execution_count": 33,
   "metadata": {},
   "outputs": [],
   "source": [
    "x_test = pd.DataFrame(columns=used_cols)"
   ]
  },
  {
   "cell_type": "code",
   "execution_count": 37,
   "metadata": {},
   "outputs": [
    {
     "ename": "AttributeError",
     "evalue": "'str' object has no attribute 'contains'",
     "output_type": "error",
     "traceback": [
      "\u001b[0;31m---------------------------------------------------------------------------\u001b[0m",
      "\u001b[0;31mAttributeError\u001b[0m                            Traceback (most recent call last)",
      "Cell \u001b[0;32mIn[37], line 3\u001b[0m\n\u001b[1;32m      1\u001b[0m \u001b[39mfor\u001b[39;00m col \u001b[39min\u001b[39;00m used_cols:\n\u001b[1;32m      2\u001b[0m     \u001b[39mif\u001b[39;00m col \u001b[39mnot\u001b[39;00m \u001b[39min\u001b[39;00m all_df:\n\u001b[0;32m----> 3\u001b[0m         \u001b[39mif\u001b[39;00m col\u001b[39m.\u001b[39;49mcontains(\u001b[39m\"\u001b[39m\u001b[39mlcsCh\u001b[39m\u001b[39m\"\u001b[39m) \u001b[39mor\u001b[39;00m col\u001b[39m.\u001b[39mcontains(\u001b[39m\"\u001b[39m\u001b[39mx0\u001b[39m\u001b[39m\"\u001b[39m):\n\u001b[1;32m      4\u001b[0m             \u001b[39mprint\u001b[39m(\u001b[39m\"\u001b[39m\u001b[39mcol : \u001b[39m\u001b[39m\"\u001b[39m, col)\n\u001b[1;32m      5\u001b[0m             all_df[col] \u001b[39m=\u001b[39m \u001b[39m0\u001b[39m\n",
      "\u001b[0;31mAttributeError\u001b[0m: 'str' object has no attribute 'contains'"
     ]
    }
   ],
   "source": [
    "for col in used_cols:\n",
    "    if col not in all_df:\n",
    "        if col in [\"lcsCh\", \"x0\"]:\n",
    "            print(\"col : \", col)\n",
    "            all_df[col] = 0"
   ]
  },
  {
   "cell_type": "code",
   "execution_count": 43,
   "metadata": {},
   "outputs": [
    {
     "data": {
      "text/plain": [
       "['hm_seoul_8',\n",
       " 'pv_seoul_8',\n",
       " 'td_seoul_8',\n",
       " 'pa_seoul_8',\n",
       " 'ps_seoul_8',\n",
       " 'ss_seoul_8',\n",
       " 'icsr_seoul_8',\n",
       " 'dsnw_seoul_8',\n",
       " 'dc10Tca_seoul_8',\n",
       " 'dc10LmcsCa_seoul_8',\n",
       " 'lcsCh_seoul_8',\n",
       " 'vs_seoul_8',\n",
       " 'ts_seoul_8',\n",
       " 'x0_0.0_seoul_8',\n",
       " 'x0_1.0_seoul_8',\n",
       " 'x0_5.0_seoul_8',\n",
       " 'x0_19.0_seoul_8',\n",
       " 'x0_40.0_seoul_8',\n",
       " 'x0_42.0_seoul_8',\n",
       " 'x0_1901.0_seoul_8']"
      ]
     },
     "execution_count": 43,
     "metadata": {},
     "output_type": "execute_result"
    }
   ],
   "source": [
    "used_cols[-20:]"
   ]
  },
  {
   "cell_type": "code",
   "execution_count": 57,
   "metadata": {},
   "outputs": [],
   "source": [
    "col = \"lcsCh_seoul_8\"\n",
    "if col in (\"lcsCh\"):\n",
    "    print(\"Hello\")"
   ]
  },
  {
   "cell_type": "code",
   "execution_count": 49,
   "metadata": {},
   "outputs": [
    {
     "name": "stdout",
     "output_type": "stream",
     "text": [
      "766 lcsCh_seoul_8 <class 'str'>\n",
      "767 vs_seoul_8 <class 'str'>\n",
      "768 ts_seoul_8 <class 'str'>\n",
      "769 x0_0.0_seoul_8 <class 'str'>\n",
      "770 x0_1.0_seoul_8 <class 'str'>\n",
      "771 x0_5.0_seoul_8 <class 'str'>\n",
      "772 x0_19.0_seoul_8 <class 'str'>\n",
      "773 x0_40.0_seoul_8 <class 'str'>\n",
      "774 x0_42.0_seoul_8 <class 'str'>\n",
      "775 x0_1901.0_seoul_8 <class 'str'>\n"
     ]
    }
   ],
   "source": [
    "for idx, col in enumerate(used_cols):\n",
    "    if idx > 765:\n",
    "        print(idx, col, type(col))\n",
    "    if col in \"lcsCh\":\n",
    "        print(col)\n",
    "    # for word in [\"lcsCh\", \"x0\"]:\n",
    "    #     if col in word:\n",
    "    #         print(\"col : \", col)"
   ]
  },
  {
   "cell_type": "code",
   "execution_count": 29,
   "metadata": {},
   "outputs": [
    {
     "data": {
      "text/plain": [
       "((1, 752), (0, 776))"
      ]
     },
     "execution_count": 29,
     "metadata": {},
     "output_type": "execute_result"
    }
   ],
   "source": [
    "all_df.shape, x_test.shape"
   ]
  },
  {
   "cell_type": "code",
   "execution_count": 24,
   "metadata": {},
   "outputs": [
    {
     "ename": "KeyError",
     "evalue": "\"['x0_0.0_bangryeong_0', 'x0_1.0_bangryeong_0', 'x0_5.0_bangryeong_0', 'x0_16.0_bangryeong_0', 'x0_19.0_bangryeong_0', 'x0_40.0_bangryeong_0', 'x0_42.0_bangryeong_0', 'x0_1601.0_bangryeong_0', 'x0_1602.0_bangryeong_0', 'x0_1901.0_bangryeong_0', 'x0_1916.0_bangryeong_0', 'x0_0.0_incheon_1', 'x0_1.0_incheon_1', 'x0_5.0_incheon_1', 'x0_16.0_incheon_1', 'x0_19.0_incheon_1', 'x0_40.0_incheon_1', 'x0_42.0_incheon_1', 'x0_1901.0_incheon_1', 'x0_1916.0_incheon_1', 'x0_4019.0_incheon_1', 'x0_0.0_suwon_6', 'x0_1.0_suwon_6', 'x0_5.0_suwon_6', 'x0_19.0_suwon_6', 'x0_40.0_suwon_6', 'x0_42.0_suwon_6', 'x0_1901.0_suwon_6', 'x0_4019.0_suwon_6', 'x0_0.0_seoul_8', 'x0_1.0_seoul_8', 'x0_5.0_seoul_8', 'x0_19.0_seoul_8', 'x0_40.0_seoul_8', 'x0_42.0_seoul_8', 'x0_1901.0_seoul_8'] not in index\"",
     "output_type": "error",
     "traceback": [
      "\u001b[0;31m---------------------------------------------------------------------------\u001b[0m",
      "\u001b[0;31mKeyError\u001b[0m                                  Traceback (most recent call last)",
      "Cell \u001b[0;32mIn[24], line 1\u001b[0m\n\u001b[0;32m----> 1\u001b[0m result \u001b[39m=\u001b[39m all_df[used_cols]\n",
      "File \u001b[0;32m~/miniconda3/envs/tf/lib/python3.9/site-packages/pandas/core/frame.py:3511\u001b[0m, in \u001b[0;36mDataFrame.__getitem__\u001b[0;34m(self, key)\u001b[0m\n\u001b[1;32m   3509\u001b[0m     \u001b[39mif\u001b[39;00m is_iterator(key):\n\u001b[1;32m   3510\u001b[0m         key \u001b[39m=\u001b[39m \u001b[39mlist\u001b[39m(key)\n\u001b[0;32m-> 3511\u001b[0m     indexer \u001b[39m=\u001b[39m \u001b[39mself\u001b[39;49m\u001b[39m.\u001b[39;49mcolumns\u001b[39m.\u001b[39;49m_get_indexer_strict(key, \u001b[39m\"\u001b[39;49m\u001b[39mcolumns\u001b[39;49m\u001b[39m\"\u001b[39;49m)[\u001b[39m1\u001b[39m]\n\u001b[1;32m   3513\u001b[0m \u001b[39m# take() does not accept boolean indexers\u001b[39;00m\n\u001b[1;32m   3514\u001b[0m \u001b[39mif\u001b[39;00m \u001b[39mgetattr\u001b[39m(indexer, \u001b[39m\"\u001b[39m\u001b[39mdtype\u001b[39m\u001b[39m\"\u001b[39m, \u001b[39mNone\u001b[39;00m) \u001b[39m==\u001b[39m \u001b[39mbool\u001b[39m:\n",
      "File \u001b[0;32m~/miniconda3/envs/tf/lib/python3.9/site-packages/pandas/core/indexes/base.py:5796\u001b[0m, in \u001b[0;36mIndex._get_indexer_strict\u001b[0;34m(self, key, axis_name)\u001b[0m\n\u001b[1;32m   5793\u001b[0m \u001b[39melse\u001b[39;00m:\n\u001b[1;32m   5794\u001b[0m     keyarr, indexer, new_indexer \u001b[39m=\u001b[39m \u001b[39mself\u001b[39m\u001b[39m.\u001b[39m_reindex_non_unique(keyarr)\n\u001b[0;32m-> 5796\u001b[0m \u001b[39mself\u001b[39;49m\u001b[39m.\u001b[39;49m_raise_if_missing(keyarr, indexer, axis_name)\n\u001b[1;32m   5798\u001b[0m keyarr \u001b[39m=\u001b[39m \u001b[39mself\u001b[39m\u001b[39m.\u001b[39mtake(indexer)\n\u001b[1;32m   5799\u001b[0m \u001b[39mif\u001b[39;00m \u001b[39misinstance\u001b[39m(key, Index):\n\u001b[1;32m   5800\u001b[0m     \u001b[39m# GH 42790 - Preserve name from an Index\u001b[39;00m\n",
      "File \u001b[0;32m~/miniconda3/envs/tf/lib/python3.9/site-packages/pandas/core/indexes/base.py:5859\u001b[0m, in \u001b[0;36mIndex._raise_if_missing\u001b[0;34m(self, key, indexer, axis_name)\u001b[0m\n\u001b[1;32m   5856\u001b[0m     \u001b[39mraise\u001b[39;00m \u001b[39mKeyError\u001b[39;00m(\u001b[39mf\u001b[39m\u001b[39m\"\u001b[39m\u001b[39mNone of [\u001b[39m\u001b[39m{\u001b[39;00mkey\u001b[39m}\u001b[39;00m\u001b[39m] are in the [\u001b[39m\u001b[39m{\u001b[39;00maxis_name\u001b[39m}\u001b[39;00m\u001b[39m]\u001b[39m\u001b[39m\"\u001b[39m)\n\u001b[1;32m   5858\u001b[0m not_found \u001b[39m=\u001b[39m \u001b[39mlist\u001b[39m(ensure_index(key)[missing_mask\u001b[39m.\u001b[39mnonzero()[\u001b[39m0\u001b[39m]]\u001b[39m.\u001b[39munique())\n\u001b[0;32m-> 5859\u001b[0m \u001b[39mraise\u001b[39;00m \u001b[39mKeyError\u001b[39;00m(\u001b[39mf\u001b[39m\u001b[39m\"\u001b[39m\u001b[39m{\u001b[39;00mnot_found\u001b[39m}\u001b[39;00m\u001b[39m not in index\u001b[39m\u001b[39m\"\u001b[39m)\n",
      "\u001b[0;31mKeyError\u001b[0m: \"['x0_0.0_bangryeong_0', 'x0_1.0_bangryeong_0', 'x0_5.0_bangryeong_0', 'x0_16.0_bangryeong_0', 'x0_19.0_bangryeong_0', 'x0_40.0_bangryeong_0', 'x0_42.0_bangryeong_0', 'x0_1601.0_bangryeong_0', 'x0_1602.0_bangryeong_0', 'x0_1901.0_bangryeong_0', 'x0_1916.0_bangryeong_0', 'x0_0.0_incheon_1', 'x0_1.0_incheon_1', 'x0_5.0_incheon_1', 'x0_16.0_incheon_1', 'x0_19.0_incheon_1', 'x0_40.0_incheon_1', 'x0_42.0_incheon_1', 'x0_1901.0_incheon_1', 'x0_1916.0_incheon_1', 'x0_4019.0_incheon_1', 'x0_0.0_suwon_6', 'x0_1.0_suwon_6', 'x0_5.0_suwon_6', 'x0_19.0_suwon_6', 'x0_40.0_suwon_6', 'x0_42.0_suwon_6', 'x0_1901.0_suwon_6', 'x0_4019.0_suwon_6', 'x0_0.0_seoul_8', 'x0_1.0_seoul_8', 'x0_5.0_seoul_8', 'x0_19.0_seoul_8', 'x0_40.0_seoul_8', 'x0_42.0_seoul_8', 'x0_1901.0_seoul_8'] not in index\""
     ]
    }
   ],
   "source": [
    "result = all_df[used_cols]"
   ]
  },
  {
   "cell_type": "code",
   "execution_count": null,
   "metadata": {},
   "outputs": [],
   "source": []
  }
 ],
 "metadata": {
  "kernelspec": {
   "display_name": "Python 3 (ipykernel)",
   "language": "python",
   "name": "python3"
  },
  "language_info": {
   "codemirror_mode": {
    "name": "ipython",
    "version": 3
   },
   "file_extension": ".py",
   "mimetype": "text/x-python",
   "name": "python",
   "nbconvert_exporter": "python",
   "pygments_lexer": "ipython3",
   "version": "3.9.12"
  },
  "vscode": {
   "interpreter": {
    "hash": "653cd6eaf8f34266953100bfc99243445faa6ba1b43d03bc93d29e939971e477"
   }
  }
 },
 "nbformat": 4,
 "nbformat_minor": 4
}
